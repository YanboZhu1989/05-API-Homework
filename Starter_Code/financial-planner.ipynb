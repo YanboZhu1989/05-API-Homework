{
 "cells": [
  {
   "cell_type": "markdown",
   "metadata": {},
   "source": [
    "# Unit 5 - Financial Planning"
   ]
  },
  {
   "cell_type": "code",
   "execution_count": 1,
   "metadata": {},
   "outputs": [],
   "source": [
    "# Initial imports\n",
    "import os\n",
    "import requests\n",
    "import pandas as pd\n",
    "from dotenv import load_dotenv\n",
    "import alpaca_trade_api as tradeapi\n",
    "from MCForecastTools import MCSimulation\n",
    "\n",
    "%matplotlib inline"
   ]
  },
  {
   "cell_type": "code",
   "execution_count": 2,
   "metadata": {},
   "outputs": [
    {
     "data": {
      "text/plain": [
       "True"
      ]
     },
     "execution_count": 2,
     "metadata": {},
     "output_type": "execute_result"
    }
   ],
   "source": [
    "# Load .env enviroment variables\n",
    "load_dotenv()"
   ]
  },
  {
   "cell_type": "code",
   "execution_count": null,
   "metadata": {},
   "outputs": [],
   "source": []
  },
  {
   "cell_type": "markdown",
   "metadata": {},
   "source": [
    "## Part 1 - Personal Finance Planner"
   ]
  },
  {
   "cell_type": "markdown",
   "metadata": {},
   "source": [
    "### Collect Crypto Prices Using the `requests` Library"
   ]
  },
  {
   "cell_type": "code",
   "execution_count": 3,
   "metadata": {},
   "outputs": [],
   "source": [
    "# Set current amount of crypto assets\n",
    "# YOUR CODE HERE!\n",
    "my_btc = 1.2\n",
    "my_eth = 5.3"
   ]
  },
  {
   "cell_type": "code",
   "execution_count": 4,
   "metadata": {},
   "outputs": [],
   "source": [
    "# Crypto API URLs\n",
    "btc_url = \"https://api.alternative.me/v2/ticker/Bitcoin/?convert=CAD\"\n",
    "eth_url = \"https://api.alternative.me/v2/ticker/Ethereum/?convert=CAD\""
   ]
  },
  {
   "cell_type": "code",
   "execution_count": 5,
   "metadata": {},
   "outputs": [
    {
     "data": {
      "text/plain": [
       "{'data': {'1': {'id': 1,\n",
       "   'name': 'Bitcoin',\n",
       "   'symbol': 'BTC',\n",
       "   'website_slug': 'bitcoin',\n",
       "   'rank': 1,\n",
       "   'circulating_supply': 19354093,\n",
       "   'total_supply': 19354093,\n",
       "   'max_supply': 21000000,\n",
       "   'quotes': {'USD': {'price': 27719.0,\n",
       "     'volume_24h': 12014056282,\n",
       "     'market_cap': 536664395493,\n",
       "     'percentage_change_1h': -0.124112073776903,\n",
       "     'percentage_change_24h': 1.76881460926343,\n",
       "     'percentage_change_7d': -8.55425253577688,\n",
       "     'percent_change_1h': -0.124112073776903,\n",
       "     'percent_change_24h': 1.76881460926343,\n",
       "     'percent_change_7d': -8.55425253577688},\n",
       "    'CAD': {'price': 37656.2615,\n",
       "     'volume_24h': 16321095459.097,\n",
       "     'market_cap': 729058581277.24,\n",
       "     'percent_change_1h': -0.124112073776903,\n",
       "     'percent_change_24h': 1.76881460926343,\n",
       "     'percent_change_7d': -8.55425253577688}},\n",
       "   'last_updated': 1682240392}},\n",
       " 'metadata': {'timestamp': 1682240392,\n",
       "  'num_cryptocurrencies': 3119,\n",
       "  'error': None}}"
      ]
     },
     "execution_count": 5,
     "metadata": {},
     "output_type": "execute_result"
    }
   ],
   "source": [
    "# Fetch current BTC price\n",
    "# YOUR CODE HERE!\n",
    "btc_data = requests.get(btc_url).json()\n",
    "btc_data"
   ]
  },
  {
   "cell_type": "code",
   "execution_count": 6,
   "metadata": {},
   "outputs": [
    {
     "data": {
      "text/plain": [
       "37656.2615"
      ]
     },
     "execution_count": 6,
     "metadata": {},
     "output_type": "execute_result"
    }
   ],
   "source": [
    "btc_price = btc_data[\"data\"][\"1\"][\"quotes\"][\"CAD\"][\"price\"]\n",
    "btc_price"
   ]
  },
  {
   "cell_type": "code",
   "execution_count": 7,
   "metadata": {},
   "outputs": [
    {
     "data": {
      "text/plain": [
       "2547.29618"
      ]
     },
     "execution_count": 7,
     "metadata": {},
     "output_type": "execute_result"
    }
   ],
   "source": [
    "# Fetch current ETH price\n",
    "# YOUR CODE HERE!\n",
    "eth_data = requests.get(eth_url).json()\n",
    "eth_price = eth_data[\"data\"][\"1027\"][\"quotes\"][\"CAD\"][\"price\"]\n",
    "eth_price"
   ]
  },
  {
   "cell_type": "code",
   "execution_count": 8,
   "metadata": {},
   "outputs": [
    {
     "name": "stdout",
     "output_type": "stream",
     "text": [
      "The current value of your 1.2 BTC is $45187.51\n",
      "The current value of your 5.3 ETH is $13500.67\n"
     ]
    }
   ],
   "source": [
    "# Compute current value of my crpto\n",
    "# YOUR CODE HERE!\n",
    "my_btc_value = my_btc * btc_price\n",
    "my_eth_value = my_eth * eth_price\n",
    "crypto_value = my_btc_value + my_eth_value\n",
    "# Print current crypto wallet balance\n",
    "print(f\"The current value of your {my_btc} BTC is ${my_btc_value:0.2f}\")\n",
    "print(f\"The current value of your {my_eth} ETH is ${my_eth_value:0.2f}\")"
   ]
  },
  {
   "cell_type": "markdown",
   "metadata": {},
   "source": [
    "### Collect Investments Data Using Alpaca: `SPY` (stocks) and `AGG` (bonds)"
   ]
  },
  {
   "cell_type": "code",
   "execution_count": 9,
   "metadata": {},
   "outputs": [],
   "source": [
    "# Set current amount of shares\n",
    "my_agg = 200\n",
    "my_spy = 50"
   ]
  },
  {
   "cell_type": "code",
   "execution_count": 10,
   "metadata": {},
   "outputs": [],
   "source": [
    "# Set Alpaca API variables\n",
    "alpaca_api_key = os.getenv(\"ALPACA_API_KEY\")\n",
    "alpaca_secret_key = os.getenv(\"ALPACA_SECRET_KEY\")\n",
    "\n",
    "api = tradeapi.REST(\n",
    "    alpaca_api_key,\n",
    "    alpaca_secret_key,\n",
    "    api_version=\"v2\"\n",
    ")"
   ]
  },
  {
   "cell_type": "code",
   "execution_count": 11,
   "metadata": {
    "tags": []
   },
   "outputs": [
    {
     "data": {
      "text/html": [
       "<div>\n",
       "<style scoped>\n",
       "    .dataframe tbody tr th:only-of-type {\n",
       "        vertical-align: middle;\n",
       "    }\n",
       "\n",
       "    .dataframe tbody tr th {\n",
       "        vertical-align: top;\n",
       "    }\n",
       "\n",
       "    .dataframe thead th {\n",
       "        text-align: right;\n",
       "    }\n",
       "</style>\n",
       "<table border=\"1\" class=\"dataframe\">\n",
       "  <thead>\n",
       "    <tr style=\"text-align: right;\">\n",
       "      <th></th>\n",
       "      <th>open</th>\n",
       "      <th>high</th>\n",
       "      <th>low</th>\n",
       "      <th>close</th>\n",
       "      <th>volume</th>\n",
       "      <th>trade_count</th>\n",
       "      <th>vwap</th>\n",
       "      <th>symbol</th>\n",
       "    </tr>\n",
       "    <tr>\n",
       "      <th>timestamp</th>\n",
       "      <th></th>\n",
       "      <th></th>\n",
       "      <th></th>\n",
       "      <th></th>\n",
       "      <th></th>\n",
       "      <th></th>\n",
       "      <th></th>\n",
       "      <th></th>\n",
       "    </tr>\n",
       "  </thead>\n",
       "  <tbody>\n",
       "    <tr>\n",
       "      <th>2023-04-19 04:00:00+00:00</th>\n",
       "      <td>98.89</td>\n",
       "      <td>98.93</td>\n",
       "      <td>98.71</td>\n",
       "      <td>98.89</td>\n",
       "      <td>3592906</td>\n",
       "      <td>18630</td>\n",
       "      <td>98.843915</td>\n",
       "      <td>AGG</td>\n",
       "    </tr>\n",
       "    <tr>\n",
       "      <th>2023-04-20 04:00:00+00:00</th>\n",
       "      <td>99.21</td>\n",
       "      <td>99.36</td>\n",
       "      <td>99.19</td>\n",
       "      <td>99.34</td>\n",
       "      <td>5092430</td>\n",
       "      <td>18730</td>\n",
       "      <td>99.286706</td>\n",
       "      <td>AGG</td>\n",
       "    </tr>\n",
       "    <tr>\n",
       "      <th>2023-04-19 04:00:00+00:00</th>\n",
       "      <td>412.22</td>\n",
       "      <td>415.08</td>\n",
       "      <td>412.16</td>\n",
       "      <td>414.14</td>\n",
       "      <td>55252464</td>\n",
       "      <td>421201</td>\n",
       "      <td>413.662834</td>\n",
       "      <td>SPY</td>\n",
       "    </tr>\n",
       "    <tr>\n",
       "      <th>2023-04-20 04:00:00+00:00</th>\n",
       "      <td>411.21</td>\n",
       "      <td>413.70</td>\n",
       "      <td>410.27</td>\n",
       "      <td>411.88</td>\n",
       "      <td>75839327</td>\n",
       "      <td>546265</td>\n",
       "      <td>412.016996</td>\n",
       "      <td>SPY</td>\n",
       "    </tr>\n",
       "  </tbody>\n",
       "</table>\n",
       "</div>"
      ],
      "text/plain": [
       "                             open    high     low   close    volume  \\\n",
       "timestamp                                                             \n",
       "2023-04-19 04:00:00+00:00   98.89   98.93   98.71   98.89   3592906   \n",
       "2023-04-20 04:00:00+00:00   99.21   99.36   99.19   99.34   5092430   \n",
       "2023-04-19 04:00:00+00:00  412.22  415.08  412.16  414.14  55252464   \n",
       "2023-04-20 04:00:00+00:00  411.21  413.70  410.27  411.88  75839327   \n",
       "\n",
       "                           trade_count        vwap symbol  \n",
       "timestamp                                                  \n",
       "2023-04-19 04:00:00+00:00        18630   98.843915    AGG  \n",
       "2023-04-20 04:00:00+00:00        18730   99.286706    AGG  \n",
       "2023-04-19 04:00:00+00:00       421201  413.662834    SPY  \n",
       "2023-04-20 04:00:00+00:00       546265  412.016996    SPY  "
      ]
     },
     "execution_count": 11,
     "metadata": {},
     "output_type": "execute_result"
    }
   ],
   "source": [
    "# Format current date as ISO format\n",
    "start_date_alpaca = pd.Timestamp(\"2023-04-19\", tz=\"America/New_York\").isoformat()\n",
    "end_date_alpaca = pd.Timestamp(\"2023-04-20\", tz=\"America/New_York\").isoformat()\n",
    "\n",
    "# Set the tickers\n",
    "tickers = ['AGG', 'SPY']\n",
    "\n",
    "# Set timeframe to \"1Day\" for Alpaca API\n",
    "timeframe = \"1Day\"\n",
    "\n",
    "# Get current closing prices for SPY and AGG\n",
    "df_stocks = api.get_bars(tickers, timeframe, start=start_date_alpaca, end=end_date_alpaca).df\n",
    "df_stocks.head()"
   ]
  },
  {
   "cell_type": "code",
   "execution_count": 12,
   "metadata": {},
   "outputs": [
    {
     "data": {
      "text/html": [
       "<div>\n",
       "<style scoped>\n",
       "    .dataframe tbody tr th:only-of-type {\n",
       "        vertical-align: middle;\n",
       "    }\n",
       "\n",
       "    .dataframe tbody tr th {\n",
       "        vertical-align: top;\n",
       "    }\n",
       "\n",
       "    .dataframe thead tr th {\n",
       "        text-align: left;\n",
       "    }\n",
       "\n",
       "    .dataframe thead tr:last-of-type th {\n",
       "        text-align: right;\n",
       "    }\n",
       "</style>\n",
       "<table border=\"1\" class=\"dataframe\">\n",
       "  <thead>\n",
       "    <tr>\n",
       "      <th></th>\n",
       "      <th colspan=\"7\" halign=\"left\">AGG</th>\n",
       "      <th colspan=\"7\" halign=\"left\">SPY</th>\n",
       "    </tr>\n",
       "    <tr>\n",
       "      <th></th>\n",
       "      <th>open</th>\n",
       "      <th>high</th>\n",
       "      <th>low</th>\n",
       "      <th>close</th>\n",
       "      <th>volume</th>\n",
       "      <th>trade_count</th>\n",
       "      <th>vwap</th>\n",
       "      <th>open</th>\n",
       "      <th>high</th>\n",
       "      <th>low</th>\n",
       "      <th>close</th>\n",
       "      <th>volume</th>\n",
       "      <th>trade_count</th>\n",
       "      <th>vwap</th>\n",
       "    </tr>\n",
       "    <tr>\n",
       "      <th>timestamp</th>\n",
       "      <th></th>\n",
       "      <th></th>\n",
       "      <th></th>\n",
       "      <th></th>\n",
       "      <th></th>\n",
       "      <th></th>\n",
       "      <th></th>\n",
       "      <th></th>\n",
       "      <th></th>\n",
       "      <th></th>\n",
       "      <th></th>\n",
       "      <th></th>\n",
       "      <th></th>\n",
       "      <th></th>\n",
       "    </tr>\n",
       "  </thead>\n",
       "  <tbody>\n",
       "    <tr>\n",
       "      <th>2023-04-19 04:00:00+00:00</th>\n",
       "      <td>98.89</td>\n",
       "      <td>98.93</td>\n",
       "      <td>98.71</td>\n",
       "      <td>98.89</td>\n",
       "      <td>3592906</td>\n",
       "      <td>18630</td>\n",
       "      <td>98.843915</td>\n",
       "      <td>412.22</td>\n",
       "      <td>415.08</td>\n",
       "      <td>412.16</td>\n",
       "      <td>414.14</td>\n",
       "      <td>55252464</td>\n",
       "      <td>421201</td>\n",
       "      <td>413.662834</td>\n",
       "    </tr>\n",
       "    <tr>\n",
       "      <th>2023-04-20 04:00:00+00:00</th>\n",
       "      <td>99.21</td>\n",
       "      <td>99.36</td>\n",
       "      <td>99.19</td>\n",
       "      <td>99.34</td>\n",
       "      <td>5092430</td>\n",
       "      <td>18730</td>\n",
       "      <td>99.286706</td>\n",
       "      <td>411.21</td>\n",
       "      <td>413.70</td>\n",
       "      <td>410.27</td>\n",
       "      <td>411.88</td>\n",
       "      <td>75839327</td>\n",
       "      <td>546265</td>\n",
       "      <td>412.016996</td>\n",
       "    </tr>\n",
       "  </tbody>\n",
       "</table>\n",
       "</div>"
      ],
      "text/plain": [
       "                             AGG                                            \\\n",
       "                            open   high    low  close   volume trade_count   \n",
       "timestamp                                                                    \n",
       "2023-04-19 04:00:00+00:00  98.89  98.93  98.71  98.89  3592906       18630   \n",
       "2023-04-20 04:00:00+00:00  99.21  99.36  99.19  99.34  5092430       18730   \n",
       "\n",
       "                                         SPY                          \\\n",
       "                                vwap    open    high     low   close   \n",
       "timestamp                                                              \n",
       "2023-04-19 04:00:00+00:00  98.843915  412.22  415.08  412.16  414.14   \n",
       "2023-04-20 04:00:00+00:00  99.286706  411.21  413.70  410.27  411.88   \n",
       "\n",
       "                                                             \n",
       "                             volume trade_count        vwap  \n",
       "timestamp                                                    \n",
       "2023-04-19 04:00:00+00:00  55252464      421201  413.662834  \n",
       "2023-04-20 04:00:00+00:00  75839327      546265  412.016996  "
      ]
     },
     "execution_count": 12,
     "metadata": {},
     "output_type": "execute_result"
    }
   ],
   "source": [
    "# Reorganize the DataFrame\n",
    "# Separate ticker data\n",
    "AGG = df_stocks[df_stocks['symbol']=='AGG'].drop('symbol', axis=1)\n",
    "SPY = df_stocks[df_stocks['symbol']=='SPY'].drop('symbol', axis=1)\n",
    "# Concatenate the ticker DataFrames\n",
    "df_stocks = pd.concat([AGG, SPY], axis=1, keys=[\"AGG\", \"SPY\"])\n",
    "df_stocks.head()"
   ]
  },
  {
   "cell_type": "code",
   "execution_count": 13,
   "metadata": {},
   "outputs": [
    {
     "name": "stdout",
     "output_type": "stream",
     "text": [
      "Current AGG closing price: $98.89\n",
      "Current SPY closing price: $414.14\n"
     ]
    }
   ],
   "source": [
    "# Pick AGG and SPY close prices\n",
    "# YOUR CODE HERE!\n",
    "agg_close_price = df_stocks[\"AGG\"][\"close\"].values[0]\n",
    "spy_close_price = df_stocks[\"SPY\"][\"close\"].values[0]\n",
    "# Print AGG and SPY close prices\n",
    "print(f\"Current AGG closing price: ${agg_close_price}\")\n",
    "print(f\"Current SPY closing price: ${spy_close_price}\")"
   ]
  },
  {
   "cell_type": "code",
   "execution_count": 14,
   "metadata": {},
   "outputs": [
    {
     "name": "stdout",
     "output_type": "stream",
     "text": [
      "The current value of your 50 SPY shares is $20707.00\n",
      "The current value of your 200 AGG shares is $19778.00\n"
     ]
    }
   ],
   "source": [
    "# Compute the current value of shares\n",
    "# YOUR CODE HERE!\n",
    "my_agg_value = my_agg * agg_close_price\n",
    "my_spy_value = my_spy * spy_close_price\n",
    "\n",
    "# Print current value of shares\n",
    "print(f\"The current value of your {my_spy} SPY shares is ${my_spy_value:0.2f}\")\n",
    "print(f\"The current value of your {my_agg} AGG shares is ${my_agg_value:0.2f}\")"
   ]
  },
  {
   "cell_type": "markdown",
   "metadata": {},
   "source": [
    "### Savings Health Analysis"
   ]
  },
  {
   "cell_type": "code",
   "execution_count": 15,
   "metadata": {},
   "outputs": [
    {
     "data": {
      "text/html": [
       "<div>\n",
       "<style scoped>\n",
       "    .dataframe tbody tr th:only-of-type {\n",
       "        vertical-align: middle;\n",
       "    }\n",
       "\n",
       "    .dataframe tbody tr th {\n",
       "        vertical-align: top;\n",
       "    }\n",
       "\n",
       "    .dataframe thead th {\n",
       "        text-align: right;\n",
       "    }\n",
       "</style>\n",
       "<table border=\"1\" class=\"dataframe\">\n",
       "  <thead>\n",
       "    <tr style=\"text-align: right;\">\n",
       "      <th></th>\n",
       "      <th>amount</th>\n",
       "    </tr>\n",
       "  </thead>\n",
       "  <tbody>\n",
       "    <tr>\n",
       "      <th>crypto</th>\n",
       "      <td>58688.183554</td>\n",
       "    </tr>\n",
       "    <tr>\n",
       "      <th>shares</th>\n",
       "      <td>33278.669754</td>\n",
       "    </tr>\n",
       "  </tbody>\n",
       "</table>\n",
       "</div>"
      ],
      "text/plain": [
       "              amount\n",
       "crypto  58688.183554\n",
       "shares  33278.669754"
      ]
     },
     "metadata": {},
     "output_type": "display_data"
    }
   ],
   "source": [
    "# Set monthly household income\n",
    "monthly_income = 12000\n",
    "\n",
    "# Consolidate financial assets data\n",
    "# Create savings DataFrame\n",
    "df_savings = pd.DataFrame(\n",
    "    {\n",
    "    \"amount\": [crypto_value, my_agg_value + my_eth_value]\n",
    "    }, \n",
    "    index=[\"crypto\", \"shares\"]\n",
    ")\n",
    "\n",
    "# Display savings DataFrame\n",
    "display(df_savings)"
   ]
  },
  {
   "cell_type": "code",
   "execution_count": 16,
   "metadata": {},
   "outputs": [
    {
     "data": {
      "text/plain": [
       "<AxesSubplot:title={'center':'Composition of Personal Savings'}, ylabel='amount'>"
      ]
     },
     "execution_count": 16,
     "metadata": {},
     "output_type": "execute_result"
    },
    {
     "data": {
      "image/png": "[encoded data removed]",
      "text/plain": [
       "<Figure size 640x480 with 1 Axes>"
      ]
     },
     "metadata": {},
     "output_type": "display_data"
    }
   ],
   "source": [
    "# Plot savings pie chart\n",
    "df_savings.plot.pie(y=\"amount\", title=\"Composition of Personal Savings\")"
   ]
  },
  {
   "cell_type": "code",
   "execution_count": 17,
   "metadata": {},
   "outputs": [
    {
     "data": {
      "text/plain": [
       "91966.853308"
      ]
     },
     "execution_count": 17,
     "metadata": {},
     "output_type": "execute_result"
    }
   ],
   "source": [
    "# Set ideal emergency fund\n",
    "emergency_fund = monthly_income * 3\n",
    "\n",
    "# Calculate total amount of savings\n",
    "# YOUR CODE HERE!\n",
    "total_savings = df_savings[\"amount\"].sum()\n",
    "total_savings"
   ]
  },
  {
   "cell_type": "code",
   "execution_count": 18,
   "metadata": {},
   "outputs": [
    {
     "name": "stdout",
     "output_type": "stream",
     "text": [
      "Congratulations! You have enough money in your emergency fund.\n"
     ]
    }
   ],
   "source": [
    "# Validate saving health\n",
    "# YOUR CODE HERE!\n",
    "if total_savings > emergency_fund:\n",
    "    print(\"Congratulations! You have enough money in your emergency fund.\")\n",
    "elif total_savings == emergency_fund:\n",
    "    print(\"Congratulations! You have reached your financial goal for the emergency fund.\")\n",
    "else:\n",
    "    print(f\"You are {emergency_fund - total_savings:.2f} CAD away from reaching your financial goal for the emergency fund.\")"
   ]
  },
  {
   "cell_type": "markdown",
   "metadata": {},
   "source": [
    "## Part 2 - Retirement Planning\n",
    "\n",
    "### Monte Carlo Simulation"
   ]
  },
  {
   "cell_type": "code",
   "execution_count": 19,
   "metadata": {},
   "outputs": [],
   "source": [
    "# Set start and end dates of five years back from today.\n",
    "# Sample results may vary from the solution based on the time frame chosen\n",
    "start_date = pd.Timestamp('2018-04-21', tz='America/New_York').isoformat()\n",
    "end_date = pd.Timestamp('2023-04-21', tz='America/New_York').isoformat()"
   ]
  },
  {
   "cell_type": "code",
   "execution_count": 20,
   "metadata": {
    "collapsed": true,
    "jupyter": {
     "outputs_hidden": true
    },
    "tags": []
   },
   "outputs": [
    {
     "data": {
      "text/html": [
       "<div>\n",
       "<style scoped>\n",
       "    .dataframe tbody tr th:only-of-type {\n",
       "        vertical-align: middle;\n",
       "    }\n",
       "\n",
       "    .dataframe tbody tr th {\n",
       "        vertical-align: top;\n",
       "    }\n",
       "\n",
       "    .dataframe thead tr th {\n",
       "        text-align: left;\n",
       "    }\n",
       "\n",
       "    .dataframe thead tr:last-of-type th {\n",
       "        text-align: right;\n",
       "    }\n",
       "</style>\n",
       "<table border=\"1\" class=\"dataframe\">\n",
       "  <thead>\n",
       "    <tr>\n",
       "      <th></th>\n",
       "      <th colspan=\"7\" halign=\"left\">AGG</th>\n",
       "      <th colspan=\"7\" halign=\"left\">SPY</th>\n",
       "    </tr>\n",
       "    <tr>\n",
       "      <th></th>\n",
       "      <th>open</th>\n",
       "      <th>high</th>\n",
       "      <th>low</th>\n",
       "      <th>close</th>\n",
       "      <th>volume</th>\n",
       "      <th>trade_count</th>\n",
       "      <th>vwap</th>\n",
       "      <th>open</th>\n",
       "      <th>high</th>\n",
       "      <th>low</th>\n",
       "      <th>close</th>\n",
       "      <th>volume</th>\n",
       "      <th>trade_count</th>\n",
       "      <th>vwap</th>\n",
       "    </tr>\n",
       "    <tr>\n",
       "      <th>timestamp</th>\n",
       "      <th></th>\n",
       "      <th></th>\n",
       "      <th></th>\n",
       "      <th></th>\n",
       "      <th></th>\n",
       "      <th></th>\n",
       "      <th></th>\n",
       "      <th></th>\n",
       "      <th></th>\n",
       "      <th></th>\n",
       "      <th></th>\n",
       "      <th></th>\n",
       "      <th></th>\n",
       "      <th></th>\n",
       "    </tr>\n",
       "  </thead>\n",
       "  <tbody>\n",
       "    <tr>\n",
       "      <th>2018-04-23 04:00:00+00:00</th>\n",
       "      <td>105.98</td>\n",
       "      <td>106.01</td>\n",
       "      <td>105.90</td>\n",
       "      <td>105.95</td>\n",
       "      <td>2620804</td>\n",
       "      <td>11475</td>\n",
       "      <td>105.953540</td>\n",
       "      <td>267.25</td>\n",
       "      <td>267.8900</td>\n",
       "      <td>265.35</td>\n",
       "      <td>266.57</td>\n",
       "      <td>67445593</td>\n",
       "      <td>239522</td>\n",
       "      <td>266.670829</td>\n",
       "    </tr>\n",
       "    <tr>\n",
       "      <th>2018-04-24 04:00:00+00:00</th>\n",
       "      <td>105.85</td>\n",
       "      <td>105.92</td>\n",
       "      <td>105.78</td>\n",
       "      <td>105.81</td>\n",
       "      <td>3442319</td>\n",
       "      <td>16110</td>\n",
       "      <td>105.846798</td>\n",
       "      <td>267.73</td>\n",
       "      <td>267.9762</td>\n",
       "      <td>261.28</td>\n",
       "      <td>263.04</td>\n",
       "      <td>113999454</td>\n",
       "      <td>436187</td>\n",
       "      <td>264.147131</td>\n",
       "    </tr>\n",
       "    <tr>\n",
       "      <th>2018-04-25 04:00:00+00:00</th>\n",
       "      <td>105.72</td>\n",
       "      <td>105.74</td>\n",
       "      <td>105.60</td>\n",
       "      <td>105.67</td>\n",
       "      <td>3984953</td>\n",
       "      <td>13988</td>\n",
       "      <td>105.715560</td>\n",
       "      <td>262.91</td>\n",
       "      <td>264.1300</td>\n",
       "      <td>260.85</td>\n",
       "      <td>263.63</td>\n",
       "      <td>103943848</td>\n",
       "      <td>356769</td>\n",
       "      <td>262.812073</td>\n",
       "    </tr>\n",
       "    <tr>\n",
       "      <th>2018-04-26 04:00:00+00:00</th>\n",
       "      <td>105.83</td>\n",
       "      <td>105.90</td>\n",
       "      <td>105.76</td>\n",
       "      <td>105.85</td>\n",
       "      <td>4870388</td>\n",
       "      <td>13589</td>\n",
       "      <td>105.829017</td>\n",
       "      <td>264.79</td>\n",
       "      <td>267.2452</td>\n",
       "      <td>264.29</td>\n",
       "      <td>266.24</td>\n",
       "      <td>67996934</td>\n",
       "      <td>270097</td>\n",
       "      <td>265.886712</td>\n",
       "    </tr>\n",
       "    <tr>\n",
       "      <th>2018-04-27 04:00:00+00:00</th>\n",
       "      <td>105.96</td>\n",
       "      <td>106.04</td>\n",
       "      <td>105.94</td>\n",
       "      <td>105.98</td>\n",
       "      <td>3806396</td>\n",
       "      <td>9173</td>\n",
       "      <td>105.988632</td>\n",
       "      <td>267.00</td>\n",
       "      <td>267.3400</td>\n",
       "      <td>265.50</td>\n",
       "      <td>266.58</td>\n",
       "      <td>57229880</td>\n",
       "      <td>224242</td>\n",
       "      <td>266.579457</td>\n",
       "    </tr>\n",
       "  </tbody>\n",
       "</table>\n",
       "</div>"
      ],
      "text/plain": [
       "                              AGG                                   \\\n",
       "                             open    high     low   close   volume   \n",
       "timestamp                                                            \n",
       "2018-04-23 04:00:00+00:00  105.98  106.01  105.90  105.95  2620804   \n",
       "2018-04-24 04:00:00+00:00  105.85  105.92  105.78  105.81  3442319   \n",
       "2018-04-25 04:00:00+00:00  105.72  105.74  105.60  105.67  3984953   \n",
       "2018-04-26 04:00:00+00:00  105.83  105.90  105.76  105.85  4870388   \n",
       "2018-04-27 04:00:00+00:00  105.96  106.04  105.94  105.98  3806396   \n",
       "\n",
       "                                                      SPY                    \\\n",
       "                          trade_count        vwap    open      high     low   \n",
       "timestamp                                                                     \n",
       "2018-04-23 04:00:00+00:00       11475  105.953540  267.25  267.8900  265.35   \n",
       "2018-04-24 04:00:00+00:00       16110  105.846798  267.73  267.9762  261.28   \n",
       "2018-04-25 04:00:00+00:00       13988  105.715560  262.91  264.1300  260.85   \n",
       "2018-04-26 04:00:00+00:00       13589  105.829017  264.79  267.2452  264.29   \n",
       "2018-04-27 04:00:00+00:00        9173  105.988632  267.00  267.3400  265.50   \n",
       "\n",
       "                                                                      \n",
       "                            close     volume trade_count        vwap  \n",
       "timestamp                                                             \n",
       "2018-04-23 04:00:00+00:00  266.57   67445593      239522  266.670829  \n",
       "2018-04-24 04:00:00+00:00  263.04  113999454      436187  264.147131  \n",
       "2018-04-25 04:00:00+00:00  263.63  103943848      356769  262.812073  \n",
       "2018-04-26 04:00:00+00:00  266.24   67996934      270097  265.886712  \n",
       "2018-04-27 04:00:00+00:00  266.58   57229880      224242  266.579457  "
      ]
     },
     "execution_count": 20,
     "metadata": {},
     "output_type": "execute_result"
    }
   ],
   "source": [
    "# Get 5 years' worth of historical data for SPY and AGG\n",
    "# YOUR CODE HERE!\n",
    "df_portfolio = api.get_bars(tickers, timeframe, start=start_date, end=end_date).df\n",
    "# Reorganize the DataFrame\n",
    "# Separate ticker data\n",
    "# YOUR CODE HERE!\n",
    "AGG_new = df_portfolio[df_portfolio['symbol']=='AGG'].drop('symbol', axis=1)\n",
    "SPY_new = df_portfolio[df_portfolio['symbol']=='SPY'].drop('symbol', axis=1)\n",
    "\n",
    "# Concatenate the ticker DataFrames\n",
    "# YOUR CODE HERE!\n",
    "df_stock_data = pd.concat([AGG_new, SPY_new], axis=1, keys=[\"AGG\", \"SPY\"])\n",
    "# Display sample data\n",
    "df_stock_data.head()"
   ]
  },
  {
   "cell_type": "code",
   "execution_count": 21,
   "metadata": {},
   "outputs": [],
   "source": [
    "# Configuring a Monte Carlo simulation to forecast 30 years cumulative returns\n",
    "num_simulation = 500\n",
    "num_days = 30 * 252\n",
    "\n",
    "# Set the initial investment\n",
    "initial_investment = 20000\n",
    "\n",
    "# Calculate the portfolio weights\n",
    "weights = [0.6, 0.4]"
   ]
  },
  {
   "cell_type": "code",
   "execution_count": 22,
   "metadata": {},
   "outputs": [],
   "source": [
    "# Printing the simulation input data\n",
    "# YOUR CODE HERE!\n",
    "spy_daily_return = df_stock_data[\"SPY\"][\"close\"].pct_change()\n",
    "agg_daily_return = df_stock_data[\"AGG\"][\"close\"].pct_change()"
   ]
  },
  {
   "cell_type": "code",
   "execution_count": 23,
   "metadata": {
    "tags": []
   },
   "outputs": [],
   "source": [
    "df_stock_data[(\"SPY\", \"Daily Return\")] = spy_daily_return"
   ]
  },
  {
   "cell_type": "code",
   "execution_count": 24,
   "metadata": {
    "collapsed": true,
    "jupyter": {
     "outputs_hidden": true
    },
    "tags": []
   },
   "outputs": [
    {
     "data": {
      "text/html": [
       "<div>\n",
       "<style scoped>\n",
       "    .dataframe tbody tr th:only-of-type {\n",
       "        vertical-align: middle;\n",
       "    }\n",
       "\n",
       "    .dataframe tbody tr th {\n",
       "        vertical-align: top;\n",
       "    }\n",
       "\n",
       "    .dataframe thead tr th {\n",
       "        text-align: left;\n",
       "    }\n",
       "\n",
       "    .dataframe thead tr:last-of-type th {\n",
       "        text-align: right;\n",
       "    }\n",
       "</style>\n",
       "<table border=\"1\" class=\"dataframe\">\n",
       "  <thead>\n",
       "    <tr>\n",
       "      <th></th>\n",
       "      <th colspan=\"7\" halign=\"left\">AGG</th>\n",
       "      <th colspan=\"8\" halign=\"left\">SPY</th>\n",
       "      <th>AGG</th>\n",
       "    </tr>\n",
       "    <tr>\n",
       "      <th></th>\n",
       "      <th>open</th>\n",
       "      <th>high</th>\n",
       "      <th>low</th>\n",
       "      <th>close</th>\n",
       "      <th>volume</th>\n",
       "      <th>trade_count</th>\n",
       "      <th>vwap</th>\n",
       "      <th>open</th>\n",
       "      <th>high</th>\n",
       "      <th>low</th>\n",
       "      <th>close</th>\n",
       "      <th>volume</th>\n",
       "      <th>trade_count</th>\n",
       "      <th>vwap</th>\n",
       "      <th>Daily Return</th>\n",
       "      <th>Daily Return</th>\n",
       "    </tr>\n",
       "    <tr>\n",
       "      <th>timestamp</th>\n",
       "      <th></th>\n",
       "      <th></th>\n",
       "      <th></th>\n",
       "      <th></th>\n",
       "      <th></th>\n",
       "      <th></th>\n",
       "      <th></th>\n",
       "      <th></th>\n",
       "      <th></th>\n",
       "      <th></th>\n",
       "      <th></th>\n",
       "      <th></th>\n",
       "      <th></th>\n",
       "      <th></th>\n",
       "      <th></th>\n",
       "      <th></th>\n",
       "    </tr>\n",
       "  </thead>\n",
       "  <tbody>\n",
       "    <tr>\n",
       "      <th>2018-04-23 04:00:00+00:00</th>\n",
       "      <td>105.98</td>\n",
       "      <td>106.010</td>\n",
       "      <td>105.90</td>\n",
       "      <td>105.95</td>\n",
       "      <td>2620804</td>\n",
       "      <td>11475</td>\n",
       "      <td>105.953540</td>\n",
       "      <td>267.25</td>\n",
       "      <td>267.8900</td>\n",
       "      <td>265.3500</td>\n",
       "      <td>266.57</td>\n",
       "      <td>67445593</td>\n",
       "      <td>239522</td>\n",
       "      <td>266.670829</td>\n",
       "      <td>NaN</td>\n",
       "      <td>NaN</td>\n",
       "    </tr>\n",
       "    <tr>\n",
       "      <th>2018-04-24 04:00:00+00:00</th>\n",
       "      <td>105.85</td>\n",
       "      <td>105.920</td>\n",
       "      <td>105.78</td>\n",
       "      <td>105.81</td>\n",
       "      <td>3442319</td>\n",
       "      <td>16110</td>\n",
       "      <td>105.846798</td>\n",
       "      <td>267.73</td>\n",
       "      <td>267.9762</td>\n",
       "      <td>261.2800</td>\n",
       "      <td>263.04</td>\n",
       "      <td>113999454</td>\n",
       "      <td>436187</td>\n",
       "      <td>264.147131</td>\n",
       "      <td>-0.013242</td>\n",
       "      <td>-0.001321</td>\n",
       "    </tr>\n",
       "    <tr>\n",
       "      <th>2018-04-25 04:00:00+00:00</th>\n",
       "      <td>105.72</td>\n",
       "      <td>105.740</td>\n",
       "      <td>105.60</td>\n",
       "      <td>105.67</td>\n",
       "      <td>3984953</td>\n",
       "      <td>13988</td>\n",
       "      <td>105.715560</td>\n",
       "      <td>262.91</td>\n",
       "      <td>264.1300</td>\n",
       "      <td>260.8500</td>\n",
       "      <td>263.63</td>\n",
       "      <td>103943848</td>\n",
       "      <td>356769</td>\n",
       "      <td>262.812073</td>\n",
       "      <td>0.002243</td>\n",
       "      <td>-0.001323</td>\n",
       "    </tr>\n",
       "    <tr>\n",
       "      <th>2018-04-26 04:00:00+00:00</th>\n",
       "      <td>105.83</td>\n",
       "      <td>105.900</td>\n",
       "      <td>105.76</td>\n",
       "      <td>105.85</td>\n",
       "      <td>4870388</td>\n",
       "      <td>13589</td>\n",
       "      <td>105.829017</td>\n",
       "      <td>264.79</td>\n",
       "      <td>267.2452</td>\n",
       "      <td>264.2900</td>\n",
       "      <td>266.24</td>\n",
       "      <td>67996934</td>\n",
       "      <td>270097</td>\n",
       "      <td>265.886712</td>\n",
       "      <td>0.009900</td>\n",
       "      <td>0.001703</td>\n",
       "    </tr>\n",
       "    <tr>\n",
       "      <th>2018-04-27 04:00:00+00:00</th>\n",
       "      <td>105.96</td>\n",
       "      <td>106.040</td>\n",
       "      <td>105.94</td>\n",
       "      <td>105.98</td>\n",
       "      <td>3806396</td>\n",
       "      <td>9173</td>\n",
       "      <td>105.988632</td>\n",
       "      <td>267.00</td>\n",
       "      <td>267.3400</td>\n",
       "      <td>265.5000</td>\n",
       "      <td>266.58</td>\n",
       "      <td>57229880</td>\n",
       "      <td>224242</td>\n",
       "      <td>266.579457</td>\n",
       "      <td>0.001277</td>\n",
       "      <td>0.001228</td>\n",
       "    </tr>\n",
       "    <tr>\n",
       "      <th>...</th>\n",
       "      <td>...</td>\n",
       "      <td>...</td>\n",
       "      <td>...</td>\n",
       "      <td>...</td>\n",
       "      <td>...</td>\n",
       "      <td>...</td>\n",
       "      <td>...</td>\n",
       "      <td>...</td>\n",
       "      <td>...</td>\n",
       "      <td>...</td>\n",
       "      <td>...</td>\n",
       "      <td>...</td>\n",
       "      <td>...</td>\n",
       "      <td>...</td>\n",
       "      <td>...</td>\n",
       "      <td>...</td>\n",
       "    </tr>\n",
       "    <tr>\n",
       "      <th>2023-04-17 04:00:00+00:00</th>\n",
       "      <td>99.13</td>\n",
       "      <td>99.175</td>\n",
       "      <td>98.88</td>\n",
       "      <td>98.90</td>\n",
       "      <td>4441277</td>\n",
       "      <td>18511</td>\n",
       "      <td>98.944350</td>\n",
       "      <td>412.37</td>\n",
       "      <td>413.9600</td>\n",
       "      <td>411.0850</td>\n",
       "      <td>413.94</td>\n",
       "      <td>66447057</td>\n",
       "      <td>478342</td>\n",
       "      <td>412.589811</td>\n",
       "      <td>0.003588</td>\n",
       "      <td>-0.005030</td>\n",
       "    </tr>\n",
       "    <tr>\n",
       "      <th>2023-04-18 04:00:00+00:00</th>\n",
       "      <td>98.91</td>\n",
       "      <td>99.160</td>\n",
       "      <td>98.91</td>\n",
       "      <td>99.04</td>\n",
       "      <td>4753038</td>\n",
       "      <td>17653</td>\n",
       "      <td>99.022777</td>\n",
       "      <td>415.58</td>\n",
       "      <td>415.7200</td>\n",
       "      <td>412.7802</td>\n",
       "      <td>414.21</td>\n",
       "      <td>63567329</td>\n",
       "      <td>493414</td>\n",
       "      <td>414.073765</td>\n",
       "      <td>0.000652</td>\n",
       "      <td>0.001416</td>\n",
       "    </tr>\n",
       "    <tr>\n",
       "      <th>2023-04-19 04:00:00+00:00</th>\n",
       "      <td>98.89</td>\n",
       "      <td>98.930</td>\n",
       "      <td>98.71</td>\n",
       "      <td>98.89</td>\n",
       "      <td>3592906</td>\n",
       "      <td>18630</td>\n",
       "      <td>98.843915</td>\n",
       "      <td>412.22</td>\n",
       "      <td>415.0800</td>\n",
       "      <td>412.1600</td>\n",
       "      <td>414.14</td>\n",
       "      <td>55252464</td>\n",
       "      <td>421201</td>\n",
       "      <td>413.662834</td>\n",
       "      <td>-0.000169</td>\n",
       "      <td>-0.001515</td>\n",
       "    </tr>\n",
       "    <tr>\n",
       "      <th>2023-04-20 04:00:00+00:00</th>\n",
       "      <td>99.21</td>\n",
       "      <td>99.360</td>\n",
       "      <td>99.19</td>\n",
       "      <td>99.34</td>\n",
       "      <td>5092430</td>\n",
       "      <td>18730</td>\n",
       "      <td>99.286706</td>\n",
       "      <td>411.21</td>\n",
       "      <td>413.7000</td>\n",
       "      <td>410.2700</td>\n",
       "      <td>411.88</td>\n",
       "      <td>75839327</td>\n",
       "      <td>546265</td>\n",
       "      <td>412.016996</td>\n",
       "      <td>-0.005457</td>\n",
       "      <td>0.004551</td>\n",
       "    </tr>\n",
       "    <tr>\n",
       "      <th>2023-04-21 04:00:00+00:00</th>\n",
       "      <td>99.51</td>\n",
       "      <td>99.560</td>\n",
       "      <td>99.11</td>\n",
       "      <td>99.17</td>\n",
       "      <td>5294282</td>\n",
       "      <td>19339</td>\n",
       "      <td>99.198584</td>\n",
       "      <td>412.19</td>\n",
       "      <td>412.6800</td>\n",
       "      <td>410.1700</td>\n",
       "      <td>412.20</td>\n",
       "      <td>72023892</td>\n",
       "      <td>468905</td>\n",
       "      <td>411.767653</td>\n",
       "      <td>0.000777</td>\n",
       "      <td>-0.001711</td>\n",
       "    </tr>\n",
       "  </tbody>\n",
       "</table>\n",
       "<p>1259 rows × 16 columns</p>\n",
       "</div>"
      ],
      "text/plain": [
       "                              AGG                                    \\\n",
       "                             open     high     low   close   volume   \n",
       "timestamp                                                             \n",
       "2018-04-23 04:00:00+00:00  105.98  106.010  105.90  105.95  2620804   \n",
       "2018-04-24 04:00:00+00:00  105.85  105.920  105.78  105.81  3442319   \n",
       "2018-04-25 04:00:00+00:00  105.72  105.740  105.60  105.67  3984953   \n",
       "2018-04-26 04:00:00+00:00  105.83  105.900  105.76  105.85  4870388   \n",
       "2018-04-27 04:00:00+00:00  105.96  106.040  105.94  105.98  3806396   \n",
       "...                           ...      ...     ...     ...      ...   \n",
       "2023-04-17 04:00:00+00:00   99.13   99.175   98.88   98.90  4441277   \n",
       "2023-04-18 04:00:00+00:00   98.91   99.160   98.91   99.04  4753038   \n",
       "2023-04-19 04:00:00+00:00   98.89   98.930   98.71   98.89  3592906   \n",
       "2023-04-20 04:00:00+00:00   99.21   99.360   99.19   99.34  5092430   \n",
       "2023-04-21 04:00:00+00:00   99.51   99.560   99.11   99.17  5294282   \n",
       "\n",
       "                                                      SPY                      \\\n",
       "                          trade_count        vwap    open      high       low   \n",
       "timestamp                                                                       \n",
       "2018-04-23 04:00:00+00:00       11475  105.953540  267.25  267.8900  265.3500   \n",
       "2018-04-24 04:00:00+00:00       16110  105.846798  267.73  267.9762  261.2800   \n",
       "2018-04-25 04:00:00+00:00       13988  105.715560  262.91  264.1300  260.8500   \n",
       "2018-04-26 04:00:00+00:00       13589  105.829017  264.79  267.2452  264.2900   \n",
       "2018-04-27 04:00:00+00:00        9173  105.988632  267.00  267.3400  265.5000   \n",
       "...                               ...         ...     ...       ...       ...   \n",
       "2023-04-17 04:00:00+00:00       18511   98.944350  412.37  413.9600  411.0850   \n",
       "2023-04-18 04:00:00+00:00       17653   99.022777  415.58  415.7200  412.7802   \n",
       "2023-04-19 04:00:00+00:00       18630   98.843915  412.22  415.0800  412.1600   \n",
       "2023-04-20 04:00:00+00:00       18730   99.286706  411.21  413.7000  410.2700   \n",
       "2023-04-21 04:00:00+00:00       19339   99.198584  412.19  412.6800  410.1700   \n",
       "\n",
       "                                                                      \\\n",
       "                            close     volume trade_count        vwap   \n",
       "timestamp                                                              \n",
       "2018-04-23 04:00:00+00:00  266.57   67445593      239522  266.670829   \n",
       "2018-04-24 04:00:00+00:00  263.04  113999454      436187  264.147131   \n",
       "2018-04-25 04:00:00+00:00  263.63  103943848      356769  262.812073   \n",
       "2018-04-26 04:00:00+00:00  266.24   67996934      270097  265.886712   \n",
       "2018-04-27 04:00:00+00:00  266.58   57229880      224242  266.579457   \n",
       "...                           ...        ...         ...         ...   \n",
       "2023-04-17 04:00:00+00:00  413.94   66447057      478342  412.589811   \n",
       "2023-04-18 04:00:00+00:00  414.21   63567329      493414  414.073765   \n",
       "2023-04-19 04:00:00+00:00  414.14   55252464      421201  413.662834   \n",
       "2023-04-20 04:00:00+00:00  411.88   75839327      546265  412.016996   \n",
       "2023-04-21 04:00:00+00:00  412.20   72023892      468905  411.767653   \n",
       "\n",
       "                                                AGG  \n",
       "                          Daily Return Daily Return  \n",
       "timestamp                                            \n",
       "2018-04-23 04:00:00+00:00          NaN          NaN  \n",
       "2018-04-24 04:00:00+00:00    -0.013242    -0.001321  \n",
       "2018-04-25 04:00:00+00:00     0.002243    -0.001323  \n",
       "2018-04-26 04:00:00+00:00     0.009900     0.001703  \n",
       "2018-04-27 04:00:00+00:00     0.001277     0.001228  \n",
       "...                                ...          ...  \n",
       "2023-04-17 04:00:00+00:00     0.003588    -0.005030  \n",
       "2023-04-18 04:00:00+00:00     0.000652     0.001416  \n",
       "2023-04-19 04:00:00+00:00    -0.000169    -0.001515  \n",
       "2023-04-20 04:00:00+00:00    -0.005457     0.004551  \n",
       "2023-04-21 04:00:00+00:00     0.000777    -0.001711  \n",
       "\n",
       "[1259 rows x 16 columns]"
      ]
     },
     "execution_count": 24,
     "metadata": {},
     "output_type": "execute_result"
    }
   ],
   "source": [
    "df_stock_data[(\"AGG\", \"Daily Return\")] = agg_daily_return\n",
    "df_stock_data"
   ]
  },
  {
   "cell_type": "code",
   "execution_count": 25,
   "metadata": {},
   "outputs": [
    {
     "name": "stdout",
     "output_type": "stream",
     "text": [
      "Running Monte Carlo simulation number 0.\n",
      "Running Monte Carlo simulation number 10.\n",
      "Running Monte Carlo simulation number 20.\n",
      "Running Monte Carlo simulation number 30.\n",
      "Running Monte Carlo simulation number 40.\n",
      "Running Monte Carlo simulation number 50.\n",
      "Running Monte Carlo simulation number 60.\n",
      "Running Monte Carlo simulation number 70.\n",
      "Running Monte Carlo simulation number 80.\n",
      "Running Monte Carlo simulation number 90.\n",
      "Running Monte Carlo simulation number 100.\n"
     ]
    },
    {
     "name": "stderr",
     "output_type": "stream",
     "text": [
      "C:\\Users\\boris\\finTech\\USYD-VIRT-FIN-PT-03-2023-U-LOLC\\05-APIs\\Homework\\Instructions\\Starter_Code\\MCForecastTools.py:117: PerformanceWarning: DataFrame is highly fragmented.  This is usually the result of calling `frame.insert` many times, which has poor performance.  Consider joining all columns at once using pd.concat(axis=1) instead.  To get a de-fragmented frame, use `newframe = frame.copy()`\n",
      "  portfolio_cumulative_returns[n] = (1 + sim_df.fillna(0)).cumprod()\n"
     ]
    },
    {
     "name": "stdout",
     "output_type": "stream",
     "text": [
      "Running Monte Carlo simulation number 110.\n",
      "Running Monte Carlo simulation number 120.\n",
      "Running Monte Carlo simulation number 130.\n",
      "Running Monte Carlo simulation number 140.\n",
      "Running Monte Carlo simulation number 150.\n",
      "Running Monte Carlo simulation number 160.\n",
      "Running Monte Carlo simulation number 170.\n",
      "Running Monte Carlo simulation number 180.\n",
      "Running Monte Carlo simulation number 190.\n",
      "Running Monte Carlo simulation number 200.\n",
      "Running Monte Carlo simulation number 210.\n",
      "Running Monte Carlo simulation number 220.\n",
      "Running Monte Carlo simulation number 230.\n",
      "Running Monte Carlo simulation number 240.\n",
      "Running Monte Carlo simulation number 250.\n",
      "Running Monte Carlo simulation number 260.\n",
      "Running Monte Carlo simulation number 270.\n",
      "Running Monte Carlo simulation number 280.\n",
      "Running Monte Carlo simulation number 290.\n",
      "Running Monte Carlo simulation number 300.\n",
      "Running Monte Carlo simulation number 310.\n",
      "Running Monte Carlo simulation number 320.\n",
      "Running Monte Carlo simulation number 330.\n",
      "Running Monte Carlo simulation number 340.\n",
      "Running Monte Carlo simulation number 350.\n",
      "Running Monte Carlo simulation number 360.\n",
      "Running Monte Carlo simulation number 370.\n",
      "Running Monte Carlo simulation number 380.\n",
      "Running Monte Carlo simulation number 390.\n",
      "Running Monte Carlo simulation number 400.\n",
      "Running Monte Carlo simulation number 410.\n",
      "Running Monte Carlo simulation number 420.\n",
      "Running Monte Carlo simulation number 430.\n",
      "Running Monte Carlo simulation number 440.\n",
      "Running Monte Carlo simulation number 450.\n",
      "Running Monte Carlo simulation number 460.\n",
      "Running Monte Carlo simulation number 470.\n",
      "Running Monte Carlo simulation number 480.\n",
      "Running Monte Carlo simulation number 490.\n"
     ]
    },
    {
     "data": {
      "text/html": [
       "<div>\n",
       "<style scoped>\n",
       "    .dataframe tbody tr th:only-of-type {\n",
       "        vertical-align: middle;\n",
       "    }\n",
       "\n",
       "    .dataframe tbody tr th {\n",
       "        vertical-align: top;\n",
       "    }\n",
       "\n",
       "    .dataframe thead th {\n",
       "        text-align: right;\n",
       "    }\n",
       "</style>\n",
       "<table border=\"1\" class=\"dataframe\">\n",
       "  <thead>\n",
       "    <tr style=\"text-align: right;\">\n",
       "      <th></th>\n",
       "      <th>0</th>\n",
       "      <th>1</th>\n",
       "      <th>2</th>\n",
       "      <th>3</th>\n",
       "      <th>4</th>\n",
       "      <th>5</th>\n",
       "      <th>6</th>\n",
       "      <th>7</th>\n",
       "      <th>8</th>\n",
       "      <th>9</th>\n",
       "      <th>...</th>\n",
       "      <th>490</th>\n",
       "      <th>491</th>\n",
       "      <th>492</th>\n",
       "      <th>493</th>\n",
       "      <th>494</th>\n",
       "      <th>495</th>\n",
       "      <th>496</th>\n",
       "      <th>497</th>\n",
       "      <th>498</th>\n",
       "      <th>499</th>\n",
       "    </tr>\n",
       "  </thead>\n",
       "  <tbody>\n",
       "    <tr>\n",
       "      <th>0</th>\n",
       "      <td>1.000000</td>\n",
       "      <td>1.000000</td>\n",
       "      <td>1.000000</td>\n",
       "      <td>1.000000</td>\n",
       "      <td>1.000000</td>\n",
       "      <td>1.000000</td>\n",
       "      <td>1.000000</td>\n",
       "      <td>1.000000</td>\n",
       "      <td>1.000000</td>\n",
       "      <td>1.000000</td>\n",
       "      <td>...</td>\n",
       "      <td>1.000000</td>\n",
       "      <td>1.000000</td>\n",
       "      <td>1.000000</td>\n",
       "      <td>1.000000</td>\n",
       "      <td>1.000000</td>\n",
       "      <td>1.000000</td>\n",
       "      <td>1.000000</td>\n",
       "      <td>1.000000</td>\n",
       "      <td>1.000000</td>\n",
       "      <td>1.000000</td>\n",
       "    </tr>\n",
       "    <tr>\n",
       "      <th>1</th>\n",
       "      <td>0.995436</td>\n",
       "      <td>0.998577</td>\n",
       "      <td>0.999518</td>\n",
       "      <td>1.001649</td>\n",
       "      <td>0.999883</td>\n",
       "      <td>0.998474</td>\n",
       "      <td>1.011568</td>\n",
       "      <td>0.995298</td>\n",
       "      <td>1.012144</td>\n",
       "      <td>1.005361</td>\n",
       "      <td>...</td>\n",
       "      <td>0.997763</td>\n",
       "      <td>1.000290</td>\n",
       "      <td>0.998736</td>\n",
       "      <td>1.005515</td>\n",
       "      <td>1.004390</td>\n",
       "      <td>0.995666</td>\n",
       "      <td>1.005630</td>\n",
       "      <td>0.996293</td>\n",
       "      <td>1.003076</td>\n",
       "      <td>0.991983</td>\n",
       "    </tr>\n",
       "    <tr>\n",
       "      <th>2</th>\n",
       "      <td>0.991459</td>\n",
       "      <td>1.000622</td>\n",
       "      <td>0.994183</td>\n",
       "      <td>1.005244</td>\n",
       "      <td>1.012573</td>\n",
       "      <td>0.991944</td>\n",
       "      <td>1.024717</td>\n",
       "      <td>1.001966</td>\n",
       "      <td>1.014825</td>\n",
       "      <td>0.998305</td>\n",
       "      <td>...</td>\n",
       "      <td>0.994739</td>\n",
       "      <td>1.005574</td>\n",
       "      <td>1.002271</td>\n",
       "      <td>1.010646</td>\n",
       "      <td>1.005365</td>\n",
       "      <td>1.000366</td>\n",
       "      <td>1.002169</td>\n",
       "      <td>0.992980</td>\n",
       "      <td>1.005866</td>\n",
       "      <td>0.997557</td>\n",
       "    </tr>\n",
       "    <tr>\n",
       "      <th>3</th>\n",
       "      <td>0.997191</td>\n",
       "      <td>0.984060</td>\n",
       "      <td>0.999711</td>\n",
       "      <td>1.004510</td>\n",
       "      <td>1.016806</td>\n",
       "      <td>0.979852</td>\n",
       "      <td>1.027275</td>\n",
       "      <td>1.012865</td>\n",
       "      <td>1.007452</td>\n",
       "      <td>0.996333</td>\n",
       "      <td>...</td>\n",
       "      <td>0.988100</td>\n",
       "      <td>1.006291</td>\n",
       "      <td>0.984738</td>\n",
       "      <td>1.010515</td>\n",
       "      <td>1.012013</td>\n",
       "      <td>0.993037</td>\n",
       "      <td>1.008128</td>\n",
       "      <td>0.999397</td>\n",
       "      <td>1.010916</td>\n",
       "      <td>0.994688</td>\n",
       "    </tr>\n",
       "    <tr>\n",
       "      <th>4</th>\n",
       "      <td>0.994211</td>\n",
       "      <td>0.989521</td>\n",
       "      <td>1.007982</td>\n",
       "      <td>1.011770</td>\n",
       "      <td>1.014893</td>\n",
       "      <td>0.977837</td>\n",
       "      <td>1.024884</td>\n",
       "      <td>1.019734</td>\n",
       "      <td>1.010083</td>\n",
       "      <td>0.996374</td>\n",
       "      <td>...</td>\n",
       "      <td>0.979298</td>\n",
       "      <td>1.002790</td>\n",
       "      <td>0.989095</td>\n",
       "      <td>1.011663</td>\n",
       "      <td>1.006736</td>\n",
       "      <td>0.999443</td>\n",
       "      <td>1.011519</td>\n",
       "      <td>1.002984</td>\n",
       "      <td>1.002797</td>\n",
       "      <td>0.990005</td>\n",
       "    </tr>\n",
       "    <tr>\n",
       "      <th>...</th>\n",
       "      <td>...</td>\n",
       "      <td>...</td>\n",
       "      <td>...</td>\n",
       "      <td>...</td>\n",
       "      <td>...</td>\n",
       "      <td>...</td>\n",
       "      <td>...</td>\n",
       "      <td>...</td>\n",
       "      <td>...</td>\n",
       "      <td>...</td>\n",
       "      <td>...</td>\n",
       "      <td>...</td>\n",
       "      <td>...</td>\n",
       "      <td>...</td>\n",
       "      <td>...</td>\n",
       "      <td>...</td>\n",
       "      <td>...</td>\n",
       "      <td>...</td>\n",
       "      <td>...</td>\n",
       "      <td>...</td>\n",
       "      <td>...</td>\n",
       "    </tr>\n",
       "    <tr>\n",
       "      <th>7556</th>\n",
       "      <td>2.211938</td>\n",
       "      <td>2.714835</td>\n",
       "      <td>4.864415</td>\n",
       "      <td>7.243971</td>\n",
       "      <td>1.973821</td>\n",
       "      <td>1.512401</td>\n",
       "      <td>3.409232</td>\n",
       "      <td>3.429111</td>\n",
       "      <td>3.840033</td>\n",
       "      <td>2.337659</td>\n",
       "      <td>...</td>\n",
       "      <td>1.433091</td>\n",
       "      <td>4.479441</td>\n",
       "      <td>2.574030</td>\n",
       "      <td>3.337128</td>\n",
       "      <td>2.301016</td>\n",
       "      <td>1.942875</td>\n",
       "      <td>3.996564</td>\n",
       "      <td>1.784406</td>\n",
       "      <td>2.380475</td>\n",
       "      <td>1.338194</td>\n",
       "    </tr>\n",
       "    <tr>\n",
       "      <th>7557</th>\n",
       "      <td>2.225412</td>\n",
       "      <td>2.713030</td>\n",
       "      <td>4.824878</td>\n",
       "      <td>7.254078</td>\n",
       "      <td>1.968697</td>\n",
       "      <td>1.525571</td>\n",
       "      <td>3.412923</td>\n",
       "      <td>3.457688</td>\n",
       "      <td>3.812419</td>\n",
       "      <td>2.350029</td>\n",
       "      <td>...</td>\n",
       "      <td>1.434769</td>\n",
       "      <td>4.466002</td>\n",
       "      <td>2.552662</td>\n",
       "      <td>3.346850</td>\n",
       "      <td>2.291730</td>\n",
       "      <td>1.952121</td>\n",
       "      <td>4.009098</td>\n",
       "      <td>1.787157</td>\n",
       "      <td>2.363522</td>\n",
       "      <td>1.329377</td>\n",
       "    </tr>\n",
       "    <tr>\n",
       "      <th>7558</th>\n",
       "      <td>2.220109</td>\n",
       "      <td>2.707170</td>\n",
       "      <td>4.838555</td>\n",
       "      <td>7.189221</td>\n",
       "      <td>1.971125</td>\n",
       "      <td>1.512037</td>\n",
       "      <td>3.420054</td>\n",
       "      <td>3.454869</td>\n",
       "      <td>3.807956</td>\n",
       "      <td>2.369479</td>\n",
       "      <td>...</td>\n",
       "      <td>1.425881</td>\n",
       "      <td>4.460080</td>\n",
       "      <td>2.543921</td>\n",
       "      <td>3.350043</td>\n",
       "      <td>2.300060</td>\n",
       "      <td>1.939580</td>\n",
       "      <td>4.042748</td>\n",
       "      <td>1.802981</td>\n",
       "      <td>2.363060</td>\n",
       "      <td>1.332935</td>\n",
       "    </tr>\n",
       "    <tr>\n",
       "      <th>7559</th>\n",
       "      <td>2.238547</td>\n",
       "      <td>2.682625</td>\n",
       "      <td>4.838529</td>\n",
       "      <td>7.172684</td>\n",
       "      <td>1.989327</td>\n",
       "      <td>1.508141</td>\n",
       "      <td>3.455241</td>\n",
       "      <td>3.473418</td>\n",
       "      <td>3.833015</td>\n",
       "      <td>2.357935</td>\n",
       "      <td>...</td>\n",
       "      <td>1.417917</td>\n",
       "      <td>4.430971</td>\n",
       "      <td>2.551714</td>\n",
       "      <td>3.315605</td>\n",
       "      <td>2.296618</td>\n",
       "      <td>1.951879</td>\n",
       "      <td>4.056546</td>\n",
       "      <td>1.813749</td>\n",
       "      <td>2.356890</td>\n",
       "      <td>1.333584</td>\n",
       "    </tr>\n",
       "    <tr>\n",
       "      <th>7560</th>\n",
       "      <td>2.221465</td>\n",
       "      <td>2.696302</td>\n",
       "      <td>4.863953</td>\n",
       "      <td>7.178318</td>\n",
       "      <td>1.980652</td>\n",
       "      <td>1.523773</td>\n",
       "      <td>3.454240</td>\n",
       "      <td>3.482324</td>\n",
       "      <td>3.840810</td>\n",
       "      <td>2.337755</td>\n",
       "      <td>...</td>\n",
       "      <td>1.432689</td>\n",
       "      <td>4.460982</td>\n",
       "      <td>2.543132</td>\n",
       "      <td>3.308204</td>\n",
       "      <td>2.286448</td>\n",
       "      <td>1.953185</td>\n",
       "      <td>4.017541</td>\n",
       "      <td>1.836274</td>\n",
       "      <td>2.351010</td>\n",
       "      <td>1.322220</td>\n",
       "    </tr>\n",
       "  </tbody>\n",
       "</table>\n",
       "<p>7561 rows × 500 columns</p>\n",
       "</div>"
      ],
      "text/plain": [
       "           0         1         2         3         4         5         6    \\\n",
       "0     1.000000  1.000000  1.000000  1.000000  1.000000  1.000000  1.000000   \n",
       "1     0.995436  0.998577  0.999518  1.001649  0.999883  0.998474  1.011568   \n",
       "2     0.991459  1.000622  0.994183  1.005244  1.012573  0.991944  1.024717   \n",
       "3     0.997191  0.984060  0.999711  1.004510  1.016806  0.979852  1.027275   \n",
       "4     0.994211  0.989521  1.007982  1.011770  1.014893  0.977837  1.024884   \n",
       "...        ...       ...       ...       ...       ...       ...       ...   \n",
       "7556  2.211938  2.714835  4.864415  7.243971  1.973821  1.512401  3.409232   \n",
       "7557  2.225412  2.713030  4.824878  7.254078  1.968697  1.525571  3.412923   \n",
       "7558  2.220109  2.707170  4.838555  7.189221  1.971125  1.512037  3.420054   \n",
       "7559  2.238547  2.682625  4.838529  7.172684  1.989327  1.508141  3.455241   \n",
       "7560  2.221465  2.696302  4.863953  7.178318  1.980652  1.523773  3.454240   \n",
       "\n",
       "           7         8         9    ...       490       491       492  \\\n",
       "0     1.000000  1.000000  1.000000  ...  1.000000  1.000000  1.000000   \n",
       "1     0.995298  1.012144  1.005361  ...  0.997763  1.000290  0.998736   \n",
       "2     1.001966  1.014825  0.998305  ...  0.994739  1.005574  1.002271   \n",
       "3     1.012865  1.007452  0.996333  ...  0.988100  1.006291  0.984738   \n",
       "4     1.019734  1.010083  0.996374  ...  0.979298  1.002790  0.989095   \n",
       "...        ...       ...       ...  ...       ...       ...       ...   \n",
       "7556  3.429111  3.840033  2.337659  ...  1.433091  4.479441  2.574030   \n",
       "7557  3.457688  3.812419  2.350029  ...  1.434769  4.466002  2.552662   \n",
       "7558  3.454869  3.807956  2.369479  ...  1.425881  4.460080  2.543921   \n",
       "7559  3.473418  3.833015  2.357935  ...  1.417917  4.430971  2.551714   \n",
       "7560  3.482324  3.840810  2.337755  ...  1.432689  4.460982  2.543132   \n",
       "\n",
       "           493       494       495       496       497       498       499  \n",
       "0     1.000000  1.000000  1.000000  1.000000  1.000000  1.000000  1.000000  \n",
       "1     1.005515  1.004390  0.995666  1.005630  0.996293  1.003076  0.991983  \n",
       "2     1.010646  1.005365  1.000366  1.002169  0.992980  1.005866  0.997557  \n",
       "3     1.010515  1.012013  0.993037  1.008128  0.999397  1.010916  0.994688  \n",
       "4     1.011663  1.006736  0.999443  1.011519  1.002984  1.002797  0.990005  \n",
       "...        ...       ...       ...       ...       ...       ...       ...  \n",
       "7556  3.337128  2.301016  1.942875  3.996564  1.784406  2.380475  1.338194  \n",
       "7557  3.346850  2.291730  1.952121  4.009098  1.787157  2.363522  1.329377  \n",
       "7558  3.350043  2.300060  1.939580  4.042748  1.802981  2.363060  1.332935  \n",
       "7559  3.315605  2.296618  1.951879  4.056546  1.813749  2.356890  1.333584  \n",
       "7560  3.308204  2.286448  1.953185  4.017541  1.836274  2.351010  1.322220  \n",
       "\n",
       "[7561 rows x 500 columns]"
      ]
     },
     "execution_count": 25,
     "metadata": {},
     "output_type": "execute_result"
    }
   ],
   "source": [
    "# Running a Monte Carlo simulation to forecast 30 years cumulative returns\n",
    "# YOUR CODE HERE!\n",
    "mc = MCSimulation(df_stock_data, weights, num_simulation, num_days)\n",
    "mc.calc_cumulative_return()"
   ]
  },
  {
   "cell_type": "code",
   "execution_count": 26,
   "metadata": {},
   "outputs": [
    {
     "data": {
      "text/plain": [
       "<AxesSubplot:title={'center':'500 Simulations of Cumulative Portfolio Return Trajectories Over the Next 7560 Trading Days.'}>"
      ]
     },
     "execution_count": 26,
     "metadata": {},
     "output_type": "execute_result"
    },
    {
     "data": {
      "image/png": "[encoded data removed]",
      "text/plain": [
       "<Figure size 640x480 with 1 Axes>"
      ]
     },
     "metadata": {},
     "output_type": "display_data"
    }
   ],
   "source": [
    "# Plot simulation outcomes\n",
    "# YOUR CODE HERE!\n",
    "line_plot = mc.plot_simulation()\n",
    "line_plot"
   ]
  },
  {
   "cell_type": "code",
   "execution_count": 27,
   "metadata": {},
   "outputs": [
    {
     "data": {
      "image/png": "[encoded data removed]",
      "text/plain": [
       "<Figure size 640x480 with 1 Axes>"
      ]
     },
     "metadata": {},
     "output_type": "display_data"
    }
   ],
   "source": [
    "# Plot probability distribution and confidence intervals\n",
    "# YOUR CODE HERE!\n",
    "dist_plot = mc.plot_distribution()"
   ]
  },
  {
   "cell_type": "markdown",
   "metadata": {},
   "source": [
    "### Retirement Analysis"
   ]
  },
  {
   "cell_type": "code",
   "execution_count": 31,
   "metadata": {},
   "outputs": [
    {
     "name": "stdout",
     "output_type": "stream",
     "text": [
      "count           500.000000\n",
      "mean              3.053856\n",
      "std               1.690501\n",
      "min               0.618576\n",
      "25%               1.952287\n",
      "50%               2.620477\n",
      "75%               3.706727\n",
      "max              10.938069\n",
      "95% CI Lower      0.975946\n",
      "95% CI Upper      7.822589\n",
      "Name: 7560, dtype: float64\n"
     ]
    }
   ],
   "source": [
    "# Fetch the summary statistics from the Monte Carlo simulation results\n",
    "summary_stats = mc.summarize_cumulative_return()\n",
    "\n",
    "# Print the summary statistics\n",
    "print(summary_stats)"
   ]
  },
  {
   "cell_type": "markdown",
   "metadata": {},
   "source": [
    "### Calculate the expected portfolio return at the `95%` lower and upper confidence intervals based on a `$20,000` initial investment."
   ]
  },
  {
   "cell_type": "code",
   "execution_count": 38,
   "metadata": {},
   "outputs": [
    {
     "name": "stdout",
     "output_type": "stream",
     "text": [
      "There is a 95% chance that an initial investment of $20000 in the portfolio over the next 30 years will end within in the range of $19518.92 and $156451.79\n"
     ]
    }
   ],
   "source": [
    "# Set initial investment\n",
    "initial_investment = 20000\n",
    "\n",
    "# Use the lower and upper `95%` confidence intervals to calculate the range of the possible outcomes of our $20,000\n",
    "# YOUR CODE HERE!\n",
    "ci_lower = round(summary_stats[8]*initial_investment,2)\n",
    "ci_upper = round(summary_stats[9]*initial_investment,2)\n",
    "# Print results\n",
    "print(f\"There is a 95% chance that an initial investment of ${initial_investment} in the portfolio\"\n",
    "      f\" over the next 30 years will end within in the range of\"\n",
    "      f\" ${ci_lower} and ${ci_upper}\")"
   ]
  },
  {
   "cell_type": "markdown",
   "metadata": {},
   "source": [
    "### Calculate the expected portfolio return at the `95%` lower and upper confidence intervals based on a `50%` increase in the initial investment."
   ]
  },
  {
   "cell_type": "code",
   "execution_count": 39,
   "metadata": {},
   "outputs": [
    {
     "name": "stdout",
     "output_type": "stream",
     "text": [
      "There is a 95% chance that an initial investment of $30000.0 in the portfolio over the next 30 years will end within in the range of $29278.38 and $234677.68\n"
     ]
    }
   ],
   "source": [
    "# Set initial investment\n",
    "initial_investment = 20000 * 1.5\n",
    "\n",
    "# Use the lower and upper `95%` confidence intervals to calculate the range of the possible outcomes of our $30,000\n",
    "# YOUR CODE HERE!\n",
    "ci_lower = round(summary_stats[8]*initial_investment,2)\n",
    "ci_upper = round(summary_stats[9]*initial_investment,2)\n",
    "# Print results\n",
    "print(f\"There is a 95% chance that an initial investment of ${initial_investment} in the portfolio\"\n",
    "      f\" over the next 30 years will end within in the range of\"\n",
    "      f\" ${ci_lower} and ${ci_upper}\")"
   ]
  },
  {
   "cell_type": "markdown",
   "metadata": {},
   "source": [
    "## Optional Challenge - Early Retirement\n",
    "\n",
    "\n",
    "### Five Years Retirement Option"
   ]
  },
  {
   "cell_type": "code",
   "execution_count": null,
   "metadata": {},
   "outputs": [],
   "source": [
    "# Configuring a Monte Carlo simulation to forecast 5 years cumulative returns\n",
    "# YOUR CODE HERE!"
   ]
  },
  {
   "cell_type": "code",
   "execution_count": null,
   "metadata": {},
   "outputs": [],
   "source": [
    "# Running a Monte Carlo simulation to forecast 5 years cumulative returns\n",
    "# YOUR CODE HERE!"
   ]
  },
  {
   "cell_type": "code",
   "execution_count": null,
   "metadata": {},
   "outputs": [],
   "source": [
    "# Plot simulation outcomes\n",
    "# YOUR CODE HERE!"
   ]
  },
  {
   "cell_type": "code",
   "execution_count": null,
   "metadata": {},
   "outputs": [],
   "source": [
    "# Plot probability distribution and confidence intervals\n",
    "# YOUR CODE HERE!"
   ]
  },
  {
   "cell_type": "code",
   "execution_count": null,
   "metadata": {},
   "outputs": [],
   "source": [
    "# Fetch summary statistics from the Monte Carlo simulation results\n",
    "# YOUR CODE HERE!\n",
    "\n",
    "# Print summary statistics\n",
    "# YOUR CODE HERE!"
   ]
  },
  {
   "cell_type": "code",
   "execution_count": null,
   "metadata": {},
   "outputs": [],
   "source": [
    "# Set initial investment\n",
    "# YOUR CODE HERE!\n",
    "\n",
    "# Use the lower and upper `95%` confidence intervals to calculate the range of the possible outcomes of our $60,000\n",
    "# YOUR CODE HERE!\n",
    "\n",
    "# Print results\n",
    "print(f\"There is a 95% chance that an initial investment of ${initial_investment} in the portfolio\"\n",
    "      f\" over the next 5 years will end within in the range of\"\n",
    "      f\" ${ci_lower_five} and ${ci_upper_five}\")"
   ]
  },
  {
   "cell_type": "markdown",
   "metadata": {},
   "source": [
    "### Ten Years Retirement Option"
   ]
  },
  {
   "cell_type": "code",
   "execution_count": null,
   "metadata": {},
   "outputs": [],
   "source": [
    "# Configuring a Monte Carlo simulation to forecast 10 years cumulative returns\n",
    "# YOUR CODE HERE!"
   ]
  },
  {
   "cell_type": "code",
   "execution_count": null,
   "metadata": {},
   "outputs": [],
   "source": [
    "# Running a Monte Carlo simulation to forecast 10 years cumulative returns\n",
    "# YOUR CODE HERE!"
   ]
  },
  {
   "cell_type": "code",
   "execution_count": null,
   "metadata": {},
   "outputs": [],
   "source": [
    "# Plot simulation outcomes\n",
    "# YOUR CODE HERE!"
   ]
  },
  {
   "cell_type": "code",
   "execution_count": null,
   "metadata": {},
   "outputs": [],
   "source": [
    "# Plot probability distribution and confidence intervals\n",
    "# YOUR CODE HERE!"
   ]
  },
  {
   "cell_type": "code",
   "execution_count": null,
   "metadata": {},
   "outputs": [],
   "source": [
    "# Fetch summary statistics from the Monte Carlo simulation results\n",
    "# YOUR CODE HERE!\n",
    "\n",
    "# Print summary statistics\n",
    "# YOUR CODE HERE!"
   ]
  },
  {
   "cell_type": "code",
   "execution_count": null,
   "metadata": {},
   "outputs": [],
   "source": [
    "# Set initial investment\n",
    "# YOUR CODE HERE!\n",
    "\n",
    "# Use the lower and upper `95%` confidence intervals to calculate the range of the possible outcomes of our $60,000\n",
    "# YOUR CODE HERE!\n",
    "\n",
    "# Print results\n",
    "print(f\"There is a 95% chance that an initial investment of ${initial_investment} in the portfolio\"\n",
    "      f\" over the next 10 years will end within in the range of\"\n",
    "      f\" ${ci_lower_ten} and ${ci_upper_ten}\")"
   ]
  },
  {
   "cell_type": "code",
   "execution_count": null,
   "metadata": {},
   "outputs": [],
   "source": []
  }
 ],
 "metadata": {
  "kernelspec": {
   "display_name": "Python 3 (ipykernel)",
   "language": "python",
   "name": "python3"
  },
  "language_info": {
   "codemirror_mode": {
    "name": "ipython",
    "version": 3
   },
   "file_extension": ".py",
   "mimetype": "text/x-python",
   "name": "python",
   "nbconvert_exporter": "python",
   "pygments_lexer": "ipython3",
   "version": "3.7.13"
  },
  "nteract": {
   "version": "0.28.0"
  }
 },
 "nbformat": 4,
 "nbformat_minor": 4
}
